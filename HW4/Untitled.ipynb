{
 "cells": [
  {
   "cell_type": "code",
   "execution_count": 1,
   "id": "aec408fa-ea70-46d8-936d-3aff90ebcb65",
   "metadata": {},
   "outputs": [],
   "source": [
    "import sympy as sp\n",
    "import numpy as np\n",
    "import matplotlib.pyplot as plt\n",
    "plot_params = {\n",
    "    'text.latex.preamble' : r'\\usepackage{amsmath}',\n",
    "    'text.usetex'         : True,\n",
    "    'font.family'         : 'sans-serif',\n",
    "    'font.sans-serif'     : ['Helvetica']   \n",
    "}\n",
    "plt.rcParams.update(plot_params)"
   ]
  },
  {
   "cell_type": "markdown",
   "id": "ae24a526-f0d0-40f7-a043-1209fe627009",
   "metadata": {},
   "source": [
    "# Problem 1"
   ]
  },
  {
   "cell_type": "code",
   "execution_count": null,
   "id": "af34acd6-2f6b-41ee-bda7-7713a52f7356",
   "metadata": {},
   "outputs": [],
   "source": [
    "kappa = sp.Symbol(r'\\kappa',real=True,positive=True)\n",
    "v0    = sp.Symbol(r'v_0',real=True,positive=True)\n",
    "a     = sp.Symbol(r'a',real=True,positive=True)\n",
    "A,B,C,D = sp.symbols(r'A B C D')\n",
    "\n",
    "mat = sp.Matrix([\n",
    "    [sp.cosh(kappa*a/sp.S(2)),-sp.sinh(kappa*a/2)],\n",
    "    [v0,-2*kappa]\n",
    "])\n",
    "const = sp.Matrix([A,B])\n",
    "exprs = mat*const\n",
    "exprs"
   ]
  },
  {
   "cell_type": "code",
   "execution_count": null,
   "id": "3ccb2ace-2462-4f09-8401-c45758573d1f",
   "metadata": {},
   "outputs": [],
   "source": [
    "mat.det().simplify()"
   ]
  },
  {
   "cell_type": "code",
   "execution_count": null,
   "id": "8d54593b-904d-4733-bea9-3a6474be9342",
   "metadata": {},
   "outputs": [],
   "source": [
    "x = sp.symbols('x')\n",
    "sp.cosh(x).diff(x)"
   ]
  },
  {
   "cell_type": "code",
   "execution_count": null,
   "id": "f7d27381-5526-45b1-a965-29c3e479eb2e",
   "metadata": {},
   "outputs": [],
   "source": [
    "z = sp.symbols('z')\n",
    "left = sp.tanh(z/2)\n",
    "left.diff(z).subs(z,0)"
   ]
  },
  {
   "cell_type": "code",
   "execution_count": null,
   "id": "f2f69323-80fb-4c1d-b875-34f2038dd325",
   "metadata": {},
   "outputs": [],
   "source": [
    "z = np.linspace(0,0.5)\n",
    "plt.plot(z,np.tanh(z/2))\n",
    "plt.plot(z,2*z/4)\n",
    "plt.show()"
   ]
  },
  {
   "cell_type": "code",
   "execution_count": null,
   "id": "90ab379e-d549-400b-bf55-41ad48c9a3b9",
   "metadata": {},
   "outputs": [],
   "source": [
    "k  = sp.Symbol(r'k',real=True,positive=True)\n",
    "v0 = sp.Symbol(r'v_0',real=True,positive=True)\n",
    "a  = sp.Symbol(r'a',real=True,positive=True)\n",
    "A,B,C,D = sp.symbols(r'A B C D')\n",
    "\n",
    "mat = sp.Matrix([\n",
    "    [sp.cos(k*a/sp.S(2)),sp.sin(k*a/2)],\n",
    "    [v0,2*k]\n",
    "])\n",
    "const = sp.Matrix([A,B])\n",
    "exprs = mat*const\n",
    "exprs"
   ]
  },
  {
   "cell_type": "code",
   "execution_count": null,
   "id": "be250e62-409b-46f1-8278-8f1b5eeab809",
   "metadata": {},
   "outputs": [],
   "source": [
    "mat.det().simplify()"
   ]
  },
  {
   "cell_type": "code",
   "execution_count": null,
   "id": "4358c738-2d34-410e-99f3-5e5c484f737d",
   "metadata": {},
   "outputs": [],
   "source": [
    "z = sp.symbols('z')\n",
    "sp.tan(z/2).diff(z).subs(z,0)"
   ]
  },
  {
   "cell_type": "code",
   "execution_count": null,
   "id": "5ae15c83-367e-4159-9dfe-e7204c29f442",
   "metadata": {},
   "outputs": [],
   "source": [
    "fig,ax = plt.subplots(figsize=(7,5))\n",
    "\n",
    "temp = np.linspace(0.01,0.99*np.pi,100)\n",
    "for i in range(5):\n",
    "    z = temp + i*np.pi\n",
    "    ax.plot(z,np.tan(z/2),'k',label=r'$\\tan(z/2)$' if i == 0 else '')\n",
    "    ax.plot(z,2*z,'r',label=r'$z_0 = 1$' if i == 0 else '')\n",
    "    ax.plot(z,2*z/10,'g',label=r'$z_0 = 10$' if i == 0 else '')\n",
    "\n",
    "ax.legend(fontsize=20,loc='upper left')\n",
    "ax.set_xlim(0,5*np.pi)\n",
    "ax.set_ylim(0,35)\n",
    "ax.set_xlabel(r'$z$',size=30)\n",
    "ax.tick_params(axis='both',which='major',direction='in',labelsize=20)\n",
    "\n",
    "plt.show()\n",
    "# fig.savefig('prob1b.pdf',bbox_inches='tight')"
   ]
  },
  {
   "cell_type": "markdown",
   "id": "fe489052-61f4-4441-b97a-fb24916039f9",
   "metadata": {},
   "source": [
    "# Problem 2"
   ]
  },
  {
   "cell_type": "code",
   "execution_count": null,
   "id": "514210d0-f66b-4e14-bae7-069d9bfed211",
   "metadata": {},
   "outputs": [],
   "source": [
    "B,C,D,E = sp.symbols('B C D E')\n",
    "k,kappa,a = sp.symbols(r'k \\kappa a',real=True,positive=True)"
   ]
  },
  {
   "cell_type": "code",
   "execution_count": null,
   "id": "ae9339dd-6edc-4ce5-8e9f-0f12c6fd333f",
   "metadata": {},
   "outputs": [],
   "source": [
    "i = sp.I\n",
    "eq1 = sp.Eq(1 + B,C + D)\n",
    "eq2 = sp.Eq(i*k*(1-B),kappa*(C-D))\n",
    "eq3 = sp.Eq(E*sp.exp(i*k*a),C*sp.exp(kappa*a)+D*sp.exp(-kappa*a))\n",
    "eq4 = sp.Eq(i*k*E*sp.exp(i*k*a),kappa*(C*sp.exp(kappa*a) - D*sp.exp(-kappa*a)))"
   ]
  },
  {
   "cell_type": "code",
   "execution_count": null,
   "id": "74d68dd2-b49c-457e-93fd-7e8a3f79b11e",
   "metadata": {},
   "outputs": [],
   "source": [
    "sol = sp.solve([eq1,eq2,eq3,eq4],[B,C,D,E])"
   ]
  },
  {
   "cell_type": "code",
   "execution_count": null,
   "id": "8d0138ad-ee8c-4ea7-9ca2-4cc29bf0ab6d",
   "metadata": {},
   "outputs": [],
   "source": [
    "B_A = sol[B].simplify().factor()\n",
    "E_A = sol[E].simplify().factor()\n",
    "\n",
    "display(B_A)\n",
    "display(E_A)"
   ]
  },
  {
   "cell_type": "code",
   "execution_count": null,
   "id": "f2ed5ad8-53cc-4a0d-966a-a7bd5e00d9a0",
   "metadata": {},
   "outputs": [],
   "source": [
    "R = (B_A.conjugate()*B_A).expand().simplify()\n",
    "T = (E_A.conjugate()*E_A).expand().simplify()\n",
    "\n",
    "display(R)\n",
    "display(T)\n",
    "display((R+T).simplify())"
   ]
  },
  {
   "cell_type": "code",
   "execution_count": null,
   "id": "c6c78347-b9ee-4734-90c1-185cd32ddd2d",
   "metadata": {},
   "outputs": [],
   "source": [
    "eps = sp.Symbol(r'\\epsilon',real=True,positive=True)\n",
    "\n",
    "expr = 4*kappa**2*k**2/((kappa**2 + k**2)**2*sp.cosh(kappa*a)**2 - (k**2 - kappa**2)**2)\n",
    "expr.subs(kappa,sp.sqrt(v0-eps)).subs(k,sp.sqrt(eps)).expand().simplify().factor()\n",
    "\n"
   ]
  },
  {
   "cell_type": "code",
   "execution_count": null,
   "id": "e3430b2d-1ec2-4501-bd70-0e20021d2441",
   "metadata": {},
   "outputs": [],
   "source": [
    "i = sp.I\n",
    "num = i*kappa*k\n",
    "den = (k*sp.cosh(kappa*a/2) + i*kappa*sp.sinh(kappa*a/2))*(k*sp.sinh(kappa*a/2) + i*kappa*sp.cosh(kappa*a/2))\n",
    "num = (num*den.conjugate()).expand().simplify()\n",
    "re,im = num.as_real_imag()\n",
    "tan_delta = im/re\n",
    "display(tan_delta.simplify())\n",
    "diff = tan_delta.subs(kappa,sp.sqrt(v0-k**2)).diff(k).subs(v0,kappa**2+k**2)\n",
    "display(diff.expand().simplify().simplify())\n",
    "# display((1/(1+tan_delta**2)).simplify())\n",
    "diff *= 1/(1+tan_delta**2)\n",
    "diff = diff.subs(v0,kappa**2+k**2).expand().simplify()\n",
    "# diff.expand().simplify()\n",
    "\n",
    "num,den = sp.fraction(diff)\n",
    "display(num)#.subs(v0,kappa**2+k**2).subs(eps,k**2).simplify())\n",
    "display(den.factor())#.subs(v0,kappa**2+k**2).subs(eps,k**2).simplify())"
   ]
  },
  {
   "cell_type": "code",
   "execution_count": null,
   "id": "49530cb0-e145-47ae-97ca-c2322ea47dc8",
   "metadata": {},
   "outputs": [],
   "source": [
    "kap = sp.sqrt(v0-k**2)\n",
    "display(kap.diff(k).subs(v0,kappa**2+k**2).simplify())\n",
    "\n",
    "((kap**2 - k**2)/(2*kap*k)).diff(k).simplify().subs(v0,kappa**2+k**2)\n",
    "\n",
    "\n",
    "# tanh(kappa*a)\n",
    "\n",
    "((kappa**2 + k**2)**2 - (k**2-kappa**2)).expand().cancel()"
   ]
  },
  {
   "cell_type": "code",
   "execution_count": null,
   "id": "cd4dcada-b15c-4bdc-b698-6634ce295181",
   "metadata": {},
   "outputs": [],
   "source": [
    "sinh_2x = 2*sp.sinh(x)*sp.cosh(x)\n",
    "cosh_2x = 2*sp.cosh(x)**2 - 1\n",
    "sinh_4x = 2*sinh_2x*cosh_2x\n",
    "cosh_4x = 2*cosh_2x**2 - 1\n",
    "\n",
    "display(sinh_4x.expand())\n",
    "display(cosh_4x.expand())\n",
    "\n",
    "display((cosh_2x**2).expand())"
   ]
  },
  {
   "cell_type": "code",
   "execution_count": null,
   "id": "f4ecdf7d-4fd3-48d0-b784-df00e914bcb1",
   "metadata": {},
   "outputs": [],
   "source": [
    "temp = -4*kappa**3*k**2 + kappa*(k**2+kappa**2)**2\n",
    "temp.expand().simplify()"
   ]
  },
  {
   "cell_type": "code",
   "execution_count": null,
   "id": "fa28a47d-e622-4ac3-8869-cf6ce5c6776d",
   "metadata": {},
   "outputs": [],
   "source": [
    "temp = (k**2*sp.cosh(kappa*a)**2 + kappa**2*sp.sinh(kappa*a)**2)*(k**2*sp.sinh(kappa*a)**2 + kappa**2*sp.cosh(kappa*a)**2)\n",
    "temp.expand().simplify().factor(sp.cosh(4*kappa*a))"
   ]
  },
  {
   "cell_type": "code",
   "execution_count": null,
   "id": "d2403638-d109-4c50-842e-2a181667642c",
   "metadata": {},
   "outputs": [],
   "source": [
    "x = sp.symbols(r'x')\n",
    "sinh2x_2 = (sp.cosh(x) - 1)/sp.S(2)\n",
    "cosh2x_2 = (sp.cosh(x) + 1)/2\n",
    "\n",
    "expr = sinh2x_2**2 + cosh2x_2**2\n",
    "expr.expand().simplify()"
   ]
  },
  {
   "cell_type": "code",
   "execution_count": null,
   "id": "c688df74-1f2b-40fd-a4f2-99e9c74f7abc",
   "metadata": {},
   "outputs": [],
   "source": [
    "temp = -(kappa**2+k**2)**2 - (kappa**4 - 6*kappa**2*k**2 + k**4)\n",
    "temp.expand().simplify().factor()"
   ]
  },
  {
   "cell_type": "markdown",
   "id": "b3ebca2d-b6c0-4b91-bef9-0a073bb7af8a",
   "metadata": {},
   "source": [
    "### part 2"
   ]
  },
  {
   "cell_type": "code",
   "execution_count": null,
   "id": "51b76d5f-97da-43cf-86ce-15bd9667accb",
   "metadata": {},
   "outputs": [],
   "source": [
    "B,C,D,E = sp.symbols('B C D E')\n",
    "k,K,a = sp.symbols(r'k K a',real=True,positive=True)"
   ]
  },
  {
   "cell_type": "code",
   "execution_count": null,
   "id": "8fbe72a0-c624-489c-aa55-87e00383d541",
   "metadata": {},
   "outputs": [],
   "source": [
    "i = sp.I\n",
    "eq1 = sp.Eq(1 + B,C + D)\n",
    "eq2 = sp.Eq(k*(1-B),K*(C-D))\n",
    "eq3 = sp.Eq(E*sp.exp(i*k*a),C*sp.exp(i*K*a)+D*sp.exp(-i*K*a))\n",
    "eq4 = sp.Eq(k*E*sp.exp(i*k*a),K*(C*sp.exp(i*K*a) - D*sp.exp(-i*K*a)))"
   ]
  },
  {
   "cell_type": "code",
   "execution_count": null,
   "id": "97585393-9038-4dcd-96ec-1ce2ff61a42f",
   "metadata": {},
   "outputs": [],
   "source": [
    "sol = sp.solve([eq1,eq2,eq3,eq4],[B,C,D,E])"
   ]
  },
  {
   "cell_type": "code",
   "execution_count": null,
   "id": "45e15a81-06f5-4422-9728-8bb1fa66da0c",
   "metadata": {},
   "outputs": [],
   "source": [
    "B_A = sol[B].simplify().factor()\n",
    "E_A = sol[E].simplify().factor()\n",
    "\n",
    "display(B_A)\n",
    "display(E_A)"
   ]
  },
  {
   "cell_type": "code",
   "execution_count": null,
   "id": "212e8d6a-e841-4c14-9275-cac7e3650d35",
   "metadata": {},
   "outputs": [],
   "source": [
    "R = (B_A.conjugate()*B_A).expand().simplify()\n",
    "T = (E_A.conjugate()*E_A).expand().simplify()\n",
    "\n",
    "display(R)\n",
    "display(T)\n",
    "display((R+T).simplify())"
   ]
  },
  {
   "cell_type": "code",
   "execution_count": null,
   "id": "bce9ba32-3d56-4918-be42-a3fb092f3b3f",
   "metadata": {},
   "outputs": [],
   "source": [
    "temp = (K**2*sp.cos(K*a/2)**2 + k**2*sp.sin(K*a/2)**2)*(K**2*sp.sin(K*a/2)**2 + k**2*sp.cos(K*a/2)**2)\n",
    "temp.expand().simplify()\n",
    "\n"
   ]
  },
  {
   "cell_type": "code",
   "execution_count": null,
   "id": "b768823a-8009-49eb-b886-4014d0b0ad43",
   "metadata": {},
   "outputs": [],
   "source": [
    "(K**4 + k**4 + 2*K**2*k**2).factor()"
   ]
  },
  {
   "cell_type": "code",
   "execution_count": null,
   "id": "133c2b60-1b7d-4442-b746-ef9b19e6eb99",
   "metadata": {},
   "outputs": [],
   "source": [
    "(-(K**4 + k**4) + 2*K**2*k**2).simplify().factor()"
   ]
  },
  {
   "cell_type": "code",
   "execution_count": null,
   "id": "5df8e63c-6b80-4fc6-8705-eb7ceeaea593",
   "metadata": {},
   "outputs": [],
   "source": [
    "x = sp.symbols('x')\n",
    "sin2x_2 = (1-sp.cos(x))/sp.S(2)\n",
    "cos2x_2 = (1 + sp.cos(x))/sp.S(2)\n",
    "\n",
    "(sin2x_2**2 + cos2x_2**2).expand().simplify()"
   ]
  },
  {
   "cell_type": "code",
   "execution_count": null,
   "id": "ca8b4315-967e-44e2-8758-b468e4de4fe0",
   "metadata": {},
   "outputs": [],
   "source": [
    "sp.cosh(i*K*a)"
   ]
  },
  {
   "cell_type": "markdown",
   "id": "988c5fa9-34f3-43d2-aee8-b6453249a032",
   "metadata": {},
   "source": [
    "# Problem 3"
   ]
  },
  {
   "cell_type": "code",
   "execution_count": 69,
   "id": "b9821b4b-e2a1-4ffb-8d99-a3fbcd25fe17",
   "metadata": {},
   "outputs": [
    {
     "name": "stderr",
     "output_type": "stream",
     "text": [
      "/var/folders/_b/29vq0z955j77svdys97cr5p40000gn/T/ipykernel_74725/935568114.py:7: RuntimeWarning: invalid value encountered in sqrt\n",
      "  ax.plot(z,-z/np.sqrt(z0**2-z**2),'r-',label=r'$-z/\\sqrt{z_0^2 - z^2}$' if i == 0 else '')\n"
     ]
    },
    {
     "data": {
      "image/png": "[encoded data removed]",
      "text/plain": [
       "<Figure size 504x360 with 1 Axes>"
      ]
     },
     "metadata": {
      "needs_background": "light"
     },
     "output_type": "display_data"
    }
   ],
   "source": [
    "z0 = 6\n",
    "\n",
    "fig,ax = plt.subplots(figsize=(7,5))\n",
    "for i in range(int(np.ceil(2*z0/np.pi))):\n",
    "    z = np.linspace(1.0001*i*np.pi/2,0.9999*(i+1)*np.pi/2,100)\n",
    "    ax.plot(z,np.tan(z),'k-',label=r'$\\tan{z}$' if i == 0 else '')\n",
    "    ax.plot(z,-z/np.sqrt(z0**2-z**2),'r-',label=r'$-z/\\sqrt{z_0^2 - z^2}$' if i == 0 else '')\n",
    "\n",
    "ax.set_ylim(-10,10)\n",
    "ax.set_xlabel(r'$z$',size=30)\n",
    "ax.legend(fontsize=20,loc='lower left')\n",
    "ax.tick_params(axis='both',which='major',direction='in',labelsize=20)\n",
    "\n",
    "plt.show()\n",
    "fig.savefig('prob3b.pdf',bbox_inches='tight')"
   ]
  },
  {
   "cell_type": "code",
   "execution_count": null,
   "id": "b610d444-686a-4cbc-9e1b-07637eaabf6d",
   "metadata": {},
   "outputs": [],
   "source": [
    "A,B = sp.symbols('A B')\n",
    "K,k = sp.symbols('K k',real=True,positive=True)\n",
    "v0,eps,a = sp.symbols(r'v_0 \\epsilon a',real=True,positive=True)"
   ]
  },
  {
   "cell_type": "code",
   "execution_count": null,
   "id": "38396aa4-36c4-4af2-8b93-cea69be14ce8",
   "metadata": {},
   "outputs": [],
   "source": [
    "eq2"
   ]
  },
  {
   "cell_type": "code",
   "execution_count": null,
   "id": "205672b3-6569-44a1-b9e5-199b0c56fb1f",
   "metadata": {},
   "outputs": [],
   "source": [
    "eq1 = sp.Eq(A*sp.sin(K*a),B+1)\n",
    "eq2 = sp.Eq(K*A*sp.cos(K*a),sp.I*k*(B-1))\n",
    "\n",
    "sol = sp.solve([eq1,eq2],[A,B])"
   ]
  },
  {
   "cell_type": "code",
   "execution_count": null,
   "id": "8358874c-a9c9-40d5-a031-7f4357acf733",
   "metadata": {},
   "outputs": [],
   "source": [
    "# sol[A].cancel()\n",
    "temp = sol[B].cancel()\n",
    "re,im = temp.as_real_imag()\n",
    "tan_2d = -im/re\n",
    "tan_2d.cancel().simplify().rewrite(sp.tan(K*a)).cancel()"
   ]
  },
  {
   "cell_type": "code",
   "execution_count": null,
   "id": "acd152b6-d30c-4bfb-944c-a0c8d078d036",
   "metadata": {},
   "outputs": [],
   "source": [
    "x = sp.symbols('x',real=True)\n",
    "tan_d = sp.solve(sp.Eq(2*x/(1-x**2),tan_2d),x)[0]\n",
    "tan_d"
   ]
  },
  {
   "cell_type": "code",
   "execution_count": null,
   "id": "200cce29-cdde-4b8e-ab2b-0445b121c190",
   "metadata": {},
   "outputs": [],
   "source": [
    "eps = sp.symbols(r'\\epsilon',real=True,positive=True)\n",
    "temp = tan_d.subs(K,sp.sqrt(v0+k**2)).diff(k).subs(v0,K**2-k**2).subs(sp.tan(K*a)**2+1,sp.sec(K*a)**2)\n",
    "temp *= 1/(1+tan_d**2)\n",
    "temp = temp.simplify().subs(sp.tan(K*a),sp.sin(K*a)/sp.cos(K*a)).subs(sp.sec(K*a)**2,1/sp.cos(K*a)**2)\n",
    "temp.subs(K,sp.sqrt(v0+eps)).subs(k,sp.sqrt(eps)).series(eps,0,2).removeO().simplify()\n",
    "\n",
    "# xi = sp.symbols(r'\\xi',real=True,positive=True)\n",
    "# temp = temp.subs(K,sp.sqrt(v0+eps)).subs(k,sp.sqrt(eps)).subs(v0,xi*eps)\n",
    "# temp.series(xi)\n",
    "\n",
    "# (K**2-k**2).subs(K,sp.sqrt(v0+k**2)).subs(k,sp.sqrt(eps))"
   ]
  },
  {
   "cell_type": "code",
   "execution_count": null,
   "id": "a68dd9e8-68c1-4806-8d61-f2d0b6805911",
   "metadata": {},
   "outputs": [],
   "source": [
    "temp = 1/sp.sqrt(eps)/(eps + v0*sp.cos(a*sp.sqrt(v0+eps))**2)*(eps + v0*sp.sin(2*a*sp.sqrt(v0+eps))/2/a/sp.sqrt(v0+eps))\n",
    "temp.series(eps,0,1/2).removeO().simplify()\n",
    "\n"
   ]
  },
  {
   "cell_type": "code",
   "execution_count": null,
   "id": "63bd9767-4f1f-4e38-ba8b-7e313b505676",
   "metadata": {},
   "outputs": [],
   "source": [
    "diff = ratio.subs(K,sp.sqrt(v0+k**2)).diff(k).subs(v0,K**2-k**2).cancel().simplify()\n",
    "diff\n",
    "\n"
   ]
  },
  {
   "cell_type": "code",
   "execution_count": 2,
   "id": "8496740e-c97c-4d8f-a908-0ed288d5bfd2",
   "metadata": {},
   "outputs": [
    {
     "data": {
      "image/png": "[encoded data removed]",
      "text/plain": [
       "<Figure size 432x288 with 1 Axes>"
      ]
     },
     "metadata": {
      "needs_background": "light"
     },
     "output_type": "display_data"
    }
   ],
   "source": [
    "z0 = 5\n",
    "z = np.linspace(1,50)\n",
    "K = np.sqrt(z0 + z)\n",
    "F = (z + z0*np.sin(2*K)/2/K)/(z + z0*np.cos(K)**2)\n",
    "plt.plot(z,F)\n",
    "plt.show()"
   ]
  },
  {
   "cell_type": "markdown",
   "id": "e663f2d5-7206-4da8-b189-3f96f7f43019",
   "metadata": {},
   "source": [
    "# Problem 4"
   ]
  },
  {
   "cell_type": "code",
   "execution_count": 2,
   "id": "c6089abe-7fb3-4533-b9c5-9e708bc166ac",
   "metadata": {},
   "outputs": [],
   "source": [
    "A,B = sp.symbols(r'A B')\n",
    "k,a,v0 = sp.symbols(r'k a v_0',real=True,positive=True)"
   ]
  },
  {
   "cell_type": "code",
   "execution_count": 3,
   "id": "34d08744-f4ec-4a7d-94b4-5c925dea7da1",
   "metadata": {},
   "outputs": [],
   "source": [
    "eq1 = sp.Eq(A*sp.sin(k*a),B+1)\n",
    "eq2 = sp.Eq(sp.I*k*(B-1) - k*A*sp.cos(k*a),v0*(B+1))"
   ]
  },
  {
   "cell_type": "code",
   "execution_count": 4,
   "id": "a2550a83-58ca-49b0-bf31-8975960ca97b",
   "metadata": {},
   "outputs": [
    {
     "data": {
      "text/latex": [
       "$\\displaystyle - \\frac{2 i k}{- i k \\sin{\\left(a k \\right)} + k \\cos{\\left(a k \\right)} + v_{0} \\sin{\\left(a k \\right)}}$"
      ],
      "text/plain": [
       "-2*I*k/(-I*k*sin(a*k) + k*cos(a*k) + v_0*sin(a*k))"
      ]
     },
     "metadata": {},
     "output_type": "display_data"
    },
    {
     "data": {
      "text/latex": [
       "$\\displaystyle - \\frac{i k \\tan{\\left(a k \\right)} + k + v_{0} \\tan{\\left(a k \\right)}}{- i k \\tan{\\left(a k \\right)} + k + v_{0} \\tan{\\left(a k \\right)}}$"
      ],
      "text/plain": [
       "-(I*k*tan(a*k) + k + v_0*tan(a*k))/(-I*k*tan(a*k) + k + v_0*tan(a*k))"
      ]
     },
     "metadata": {},
     "output_type": "display_data"
    }
   ],
   "source": [
    "sol = sp.solve([eq1,eq2],[A,B])\n",
    "A_,B_ = sol[A],sol[B]\n",
    "display(A_.cancel())\n",
    "B_ = B_.cancel().subs(sp.sin(k*a),sp.tan(k*a)*sp.cos(k*a)).simplify()\n",
    "display(B_)"
   ]
  },
  {
   "cell_type": "code",
   "execution_count": 5,
   "id": "967f2cec-765a-4736-8b58-064828416ba4",
   "metadata": {},
   "outputs": [
    {
     "data": {
      "text/latex": [
       "$\\displaystyle 1$"
      ],
      "text/plain": [
       "1"
      ]
     },
     "execution_count": 5,
     "metadata": {},
     "output_type": "execute_result"
    }
   ],
   "source": [
    "R = B_*B_.conjugate()\n",
    "R"
   ]
  },
  {
   "cell_type": "code",
   "execution_count": 36,
   "id": "1c378267-f13c-4fd0-a62b-474d4230e7ab",
   "metadata": {},
   "outputs": [
    {
     "data": {
      "text/latex": [
       "$\\displaystyle \\frac{\\sqrt{k^{2} \\sin^{2}{\\left(a k \\right)} + k^{2} \\cos^{2}{\\left(a k \\right)} + 2 k v_{0} \\sin{\\left(a k \\right)} \\cos{\\left(a k \\right)} + v_{0}^{2} \\sin^{2}{\\left(a k \\right)}}}{2 k}$"
      ],
      "text/plain": [
       "sqrt(k**2*sin(a*k)**2 + k**2*cos(a*k)**2 + 2*k*v_0*sin(a*k)*cos(a*k) + v_0**2*sin(a*k)**2)/(2*k)"
      ]
     },
     "metadata": {},
     "output_type": "display_data"
    },
    {
     "data": {
      "text/latex": [
       "$\\displaystyle \\frac{k + v_{0} \\tan{\\left(a k \\right)}}{k \\tan{\\left(a k \\right)}}$"
      ],
      "text/plain": [
       "(k + v_0*tan(a*k))/(k*tan(a*k))"
      ]
     },
     "execution_count": 36,
     "metadata": {},
     "output_type": "execute_result"
    }
   ],
   "source": [
    "temp = A_/(-2*sp.I)\n",
    "rho = sp.sqrt(1/(A_*A_.conjugate()).cancel())\n",
    "display(rho)\n",
    "temp *= temp\n",
    "re,im = A_.as_real_imag()\n",
    "tan_phi = -im/re\n",
    "tan_phi = tan_2phi.subs(sp.sin(k*a),sp.tan(k*a)*sp.cos(k*a)).cancel()\n",
    "tan_phi"
   ]
  },
  {
   "cell_type": "code",
   "execution_count": 102,
   "id": "15bcdbb8-b37f-4302-b223-1dadd766b194",
   "metadata": {},
   "outputs": [
    {
     "data": {
      "text/latex": [
       "$\\displaystyle \\frac{x^{2} \\sin^{2}{\\left(x \\right)} + x^{2} \\cos^{2}{\\left(x \\right)} + 2 x x_{0} \\sin{\\left(x \\right)} \\cos{\\left(x \\right)} + x_{0}^{2} \\sin^{2}{\\left(x \\right)}}{4 x^{2}}$"
      ],
      "text/plain": [
       "(x**2*sin(x)**2 + x**2*cos(x)**2 + 2*x*x_0*sin(x)*cos(x) + x_0**2*sin(x)**2)/(4*x**2)"
      ]
     },
     "execution_count": 102,
     "metadata": {},
     "output_type": "execute_result"
    }
   ],
   "source": [
    "rho2 = rho**2\n",
    "x = sp.symbols(r'x',real=True,positive=True)\n",
    "x0 = sp.symbols(r'x_0',real=True,positive=True)\n",
    "rho2.subs(k,x/a).subs(v0,x0/a).expand().factor()"
   ]
  },
  {
   "cell_type": "code",
   "execution_count": 37,
   "id": "3fa60e0a-0bbd-4718-8be1-4f24d97f003e",
   "metadata": {},
   "outputs": [
    {
     "data": {
      "text/latex": [
       "$\\displaystyle \\frac{2 k \\left(k + v_{0} \\tan{\\left(a k \\right)}\\right) \\tan{\\left(a k \\right)}}{k^{2} \\tan^{2}{\\left(a k \\right)} - k^{2} - 2 k v_{0} \\tan{\\left(a k \\right)} - v_{0}^{2} \\tan^{2}{\\left(a k \\right)}}$"
      ],
      "text/plain": [
       "2*k*(k + v_0*tan(a*k))*tan(a*k)/(k**2*tan(a*k)**2 - k**2 - 2*k*v_0*tan(a*k) - v_0**2*tan(a*k)**2)"
      ]
     },
     "execution_count": 37,
     "metadata": {},
     "output_type": "execute_result"
    }
   ],
   "source": [
    "re,im = B_.as_real_imag()\n",
    "ratio = -im/re\n",
    "ratio = ratio.cancel().simplify()\n",
    "ratio"
   ]
  },
  {
   "cell_type": "code",
   "execution_count": 38,
   "id": "941e902d-6f39-4044-a51c-0df5f572ac02",
   "metadata": {},
   "outputs": [
    {
     "data": {
      "text/latex": [
       "$\\displaystyle \\frac{k + v_{0} \\tan{\\left(a k \\right)}}{k \\tan{\\left(a k \\right)}}$"
      ],
      "text/plain": [
       "(k + v_0*tan(a*k))/(k*tan(a*k))"
      ]
     },
     "execution_count": 38,
     "metadata": {},
     "output_type": "execute_result"
    }
   ],
   "source": [
    "x = sp.symbols('x',real=True)\n",
    "tan_d = sp.solve(2*x/(1-x**2)-ratio,x)[0].cancel()\n",
    "tan_d"
   ]
  },
  {
   "cell_type": "code",
   "execution_count": 42,
   "id": "c691a9ec-2829-4ac5-8d4b-4ff5befdf5b8",
   "metadata": {},
   "outputs": [
    {
     "data": {
      "text/latex": [
       "$\\displaystyle \\frac{- a k^{2} - v_{0} \\sin^{2}{\\left(a k \\right)}}{k^{2} + k v_{0} \\sin{\\left(2 a k \\right)} + v_{0}^{2} \\sin^{2}{\\left(a k \\right)}}$"
      ],
      "text/plain": [
       "(-a*k**2 - v_0*sin(a*k)**2)/(k**2 + k*v_0*sin(2*a*k) + v_0**2*sin(a*k)**2)"
      ]
     },
     "execution_count": 42,
     "metadata": {},
     "output_type": "execute_result"
    }
   ],
   "source": [
    "delta_diff = tan_d.diff(k)/(1+tan_d**2)\n",
    "delta_diff = delta_diff.simplify().expand().simplify().subs(sp.cos(k*a)**2,1-sp.sin(k*a)**2)\n",
    "delta_diff = delta_diff.expand().simplify()#.subs(sp.sin(k*a)**2,(1-sp.cos(2*k*a))/2).factor()\n",
    "delta_diff.subs(sp.cos(2*k*a),1-2*sp.sin(k*a)**2).cancel()"
   ]
  },
  {
   "cell_type": "code",
   "execution_count": 112,
   "id": "ba8b4dc6-9b48-43b0-a073-dda8e1b0c512",
   "metadata": {},
   "outputs": [
    {
     "name": "stderr",
     "output_type": "stream",
     "text": [
      "/var/folders/_b/29vq0z955j77svdys97cr5p40000gn/T/ipykernel_71595/134527592.py:7: RuntimeWarning: divide by zero encountered in true_divide\n",
      "  rho2 = 1 + x0/x*np.sin(2*x)+ (x0/x*np.sin(x))**2\n",
      "/var/folders/_b/29vq0z955j77svdys97cr5p40000gn/T/ipykernel_71595/134527592.py:7: RuntimeWarning: invalid value encountered in multiply\n",
      "  rho2 = 1 + x0/x*np.sin(2*x)+ (x0/x*np.sin(x))**2\n",
      "/var/folders/_b/29vq0z955j77svdys97cr5p40000gn/T/ipykernel_71595/134527592.py:12: RuntimeWarning: divide by zero encountered in true_divide\n",
      "  tau = (1/x)*(1 + (x0/x*np.sin(x))**2)/(1 + x0/x*np.sin(2*x)+ (x0/x*np.sin(x))**2)\n",
      "/var/folders/_b/29vq0z955j77svdys97cr5p40000gn/T/ipykernel_71595/134527592.py:12: RuntimeWarning: invalid value encountered in multiply\n",
      "  tau = (1/x)*(1 + (x0/x*np.sin(x))**2)/(1 + x0/x*np.sin(2*x)+ (x0/x*np.sin(x))**2)\n"
     ]
    },
    {
     "data": {
      "image/png": "[encoded data removed]",
      "text/plain": [
       "<Figure size 1008x360 with 2 Axes>"
      ]
     },
     "metadata": {
      "needs_background": "light"
     },
     "output_type": "display_data"
    }
   ],
   "source": [
    "x0 = 50\n",
    "x = np.linspace(0,20,1000)\n",
    "\n",
    "nrows,ncols=1,2\n",
    "fig,ax = plt.subplots(nrows=nrows,ncols=ncols,figsize=(7*ncols,5*nrows))\n",
    "\n",
    "rho2 = 1 + x0/x*np.sin(2*x)+ (x0/x*np.sin(x))**2\n",
    "\n",
    "ax[0].plot(x,1/rho2,'k-')\n",
    "ax[0].text(x=0.95,y=0.95,s=r'\\boldmath $1/\\rho_{k}^2$',ha='right',va='top',transform=ax[0].transAxes,size=30)\n",
    "\n",
    "tau = (1/x)*(1 + (x0/x*np.sin(x))**2)/(1 + x0/x*np.sin(2*x)+ (x0/x*np.sin(x))**2)\n",
    "ax[1].plot(x,tau,'k-')\n",
    "ax[1].text(x=0.95,y=0.95,s=r'\\boldmath $\\tau/\\tau_0$',ha='right',va='top',transform=ax[1].transAxes,size=30)\n",
    "\n",
    "for i in range(ncols):\n",
    "    ax[i].set_xlabel(r'\\boldmath $k a$',size=30)\n",
    "    ax[i].tick_params(axis='both',which='major',direction='in',labelsize=20)\n",
    "\n",
    "plt.tight_layout()\n",
    "plt.show()\n",
    "# fig.savefig('prob4.pdf',bbox_inches='tight')"
   ]
  },
  {
   "cell_type": "code",
   "execution_count": null,
   "id": "2c5dd4e5-e2a9-4708-b9fe-17aaf8b90130",
   "metadata": {},
   "outputs": [],
   "source": []
  },
  {
   "cell_type": "code",
   "execution_count": null,
   "id": "9592d8b2-15b4-4658-ab21-c2857e400db4",
   "metadata": {},
   "outputs": [],
   "source": []
  }
 ],
 "metadata": {
  "kernelspec": {
   "display_name": "Python 3 (ipykernel)",
   "language": "python",
   "name": "python3"
  },
  "language_info": {
   "codemirror_mode": {
    "name": "ipython",
    "version": 3
   },
   "file_extension": ".py",
   "mimetype": "text/x-python",
   "name": "python",
   "nbconvert_exporter": "python",
   "pygments_lexer": "ipython3",
   "version": "3.9.17"
  }
 },
 "nbformat": 4,
 "nbformat_minor": 5
}
