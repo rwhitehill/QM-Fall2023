{
 "cells": [
  {
   "cell_type": "code",
   "execution_count": 1,
   "id": "5c40c93d-eaf5-476d-b9cf-222e65a97681",
   "metadata": {},
   "outputs": [],
   "source": [
    "import sympy as sp"
   ]
  },
  {
   "cell_type": "code",
   "execution_count": 28,
   "id": "8e9e7fce-4070-4232-a87f-1f0b4f1d0374",
   "metadata": {},
   "outputs": [],
   "source": [
    "gam  = sp.Symbol(r'\\gamma',real=True,positive=True)\n",
    "beta = sp.Symbol(r'\\beta',real=True,positive=True)\n",
    "lig  = sp.Symbol(r'\\lambda_{i}^{\\gamma}',real=True,positive=True)\n",
    "lfg  = sp.Symbol(r'\\lambda_{f}^{\\gamma}',real=True,positive=True)\n",
    "th   = sp.Symbol(r'\\theta',real=True,positive=True)\n",
    "\n",
    "le   = sp.Symbol(r'\\lambda_e',real=True,positive=True)\n",
    "\n",
    "pi = sp.Symbol('p_i',real=True,positive=True)\n",
    "pig = sp.Symbol(r'p_i^{\\gamma}',real=True,positive=True)\n",
    "m  = sp.Symbol('m',real=True,positive=True)\n",
    "h  = sp.Symbol('h',real=True,positive=True)\n",
    "c  = sp.Symbol('c',real=True,positive=True)"
   ]
  },
  {
   "cell_type": "code",
   "execution_count": 32,
   "id": "ae77e0d5-d3a2-4390-bee9-9b49824bcec4",
   "metadata": {},
   "outputs": [
    {
     "data": {
      "text/latex": [
       "$\\displaystyle \\frac{\\lambda_{i}^{\\gamma} \\left(p_{i} \\cos{\\left(\\theta \\right)} - p_{i} + p_i^{\\gamma} \\cos{\\left(\\theta \\right)} - p_i^{\\gamma}\\right)}{p_{i} - \\sqrt{c^{2} m^{2} + p_{i}^{2}}}$"
      ],
      "text/plain": [
       "\\lambda_{i}^{\\gamma}*(p_i*cos(\\theta) - p_i + p_i^{\\gamma}*cos(\\theta) - p_i^{\\gamma})/(p_i - sqrt(c**2*m**2 + p_i**2))"
      ]
     },
     "execution_count": 32,
     "metadata": {},
     "output_type": "execute_result"
    }
   ],
   "source": [
    "left = gam*(lfg*(1 + beta*(sp.cos(th) - beta)/(1 - beta*sp.cos(th))) - lig*(1+beta))\n",
    "right = le*(1 - (sp.cos(th) - beta)/(1 - beta*sp.cos(th)))\n",
    "\n",
    "sol = sp.solve(sp.Eq(left,right),lfg)[0]\n",
    "sol = sol.subs(beta,sp.sqrt(1-1/gam**2)).simplify()\n",
    "sol = sol.subs(gam,sp.sqrt(1+(pi/(m*c))**2)).simplify()\n",
    "\n",
    "sol = sol.subs(le,h/(m*c)).simplify() - lig\n",
    "sol.subs(h,lig*pig).simplify().factor(1-sp.cos(th))"
   ]
  },
  {
   "cell_type": "code",
   "execution_count": null,
   "id": "9d4a1ca0-f9a3-4f79-b176-c58af18394ae",
   "metadata": {},
   "outputs": [],
   "source": []
  },
  {
   "cell_type": "code",
   "execution_count": null,
   "id": "7e91586b-2780-4c52-b7b3-8f7a6f6c8dd2",
   "metadata": {},
   "outputs": [],
   "source": []
  },
  {
   "cell_type": "code",
   "execution_count": null,
   "id": "026f6f40-c502-40cd-91be-1fb85baecd3c",
   "metadata": {},
   "outputs": [],
   "source": []
  }
 ],
 "metadata": {
  "kernelspec": {
   "display_name": "Python 3 (ipykernel)",
   "language": "python",
   "name": "python3"
  },
  "language_info": {
   "codemirror_mode": {
    "name": "ipython",
    "version": 3
   },
   "file_extension": ".py",
   "mimetype": "text/x-python",
   "name": "python",
   "nbconvert_exporter": "python",
   "pygments_lexer": "ipython3",
   "version": "3.10.12"
  }
 },
 "nbformat": 4,
 "nbformat_minor": 5
}
