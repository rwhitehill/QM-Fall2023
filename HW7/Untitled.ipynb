{
 "cells": [
  {
   "cell_type": "code",
   "execution_count": 1,
   "id": "d6cf8ecc-41dc-4c67-8627-a9b558700eae",
   "metadata": {},
   "outputs": [],
   "source": [
    "import sympy as sp"
   ]
  },
  {
   "cell_type": "code",
   "execution_count": 12,
   "id": "d75fd3e0-88d8-4263-854a-7ca459a5f0af",
   "metadata": {},
   "outputs": [
    {
     "data": {
      "text/latex": [
       "$\\displaystyle \\left[\\begin{matrix}-1 & 1 & -1 & 1 & -1 & 1\\end{matrix}\\right]$"
      ],
      "text/plain": [
       "Matrix([[-1, 1, -1, 1, -1, 1]])"
      ]
     },
     "metadata": {},
     "output_type": "display_data"
    },
    {
     "data": {
      "text/latex": [
       "$\\displaystyle \\left[\\begin{matrix}1 & 1 & 1 & 1 & 1 & 1\\end{matrix}\\right]$"
      ],
      "text/plain": [
       "Matrix([[1, 1, 1, 1, 1, 1]])"
      ]
     },
     "metadata": {},
     "output_type": "display_data"
    },
    {
     "data": {
      "text/latex": [
       "$\\displaystyle \\left[\\begin{matrix}- \\frac{1}{2} - \\frac{\\sqrt{3} i}{2} & - \\frac{1}{2} + \\frac{\\sqrt{3} i}{2} & 1 & - \\frac{1}{2} - \\frac{\\sqrt{3} i}{2} & - \\frac{1}{2} + \\frac{\\sqrt{3} i}{2} & 1\\end{matrix}\\right]$"
      ],
      "text/plain": [
       "Matrix([[-1/2 - sqrt(3)*I/2, -1/2 + sqrt(3)*I/2, 1, -1/2 - sqrt(3)*I/2, -1/2 + sqrt(3)*I/2, 1]])"
      ]
     },
     "metadata": {},
     "output_type": "display_data"
    },
    {
     "data": {
      "text/latex": [
       "$\\displaystyle \\left[\\begin{matrix}- \\frac{1}{2} + \\frac{\\sqrt{3} i}{2} & - \\frac{1}{2} - \\frac{\\sqrt{3} i}{2} & 1 & - \\frac{1}{2} + \\frac{\\sqrt{3} i}{2} & - \\frac{1}{2} - \\frac{\\sqrt{3} i}{2} & 1\\end{matrix}\\right]$"
      ],
      "text/plain": [
       "Matrix([[-1/2 + sqrt(3)*I/2, -1/2 - sqrt(3)*I/2, 1, -1/2 + sqrt(3)*I/2, -1/2 - sqrt(3)*I/2, 1]])"
      ]
     },
     "metadata": {},
     "output_type": "display_data"
    },
    {
     "data": {
      "text/latex": [
       "$\\displaystyle \\left[\\begin{matrix}\\frac{1}{2} - \\frac{\\sqrt{3} i}{2} & - \\frac{1}{2} - \\frac{\\sqrt{3} i}{2} & -1 & - \\frac{1}{2} + \\frac{\\sqrt{3} i}{2} & \\frac{1}{2} + \\frac{\\sqrt{3} i}{2} & 1\\end{matrix}\\right]$"
      ],
      "text/plain": [
       "Matrix([[1/2 - sqrt(3)*I/2, -1/2 - sqrt(3)*I/2, -1, -1/2 + sqrt(3)*I/2, 1/2 + sqrt(3)*I/2, 1]])"
      ]
     },
     "metadata": {},
     "output_type": "display_data"
    },
    {
     "data": {
      "text/latex": [
       "$\\displaystyle \\left[\\begin{matrix}\\frac{1}{2} + \\frac{\\sqrt{3} i}{2} & - \\frac{1}{2} + \\frac{\\sqrt{3} i}{2} & -1 & - \\frac{1}{2} - \\frac{\\sqrt{3} i}{2} & \\frac{1}{2} - \\frac{\\sqrt{3} i}{2} & 1\\end{matrix}\\right]$"
      ],
      "text/plain": [
       "Matrix([[1/2 + sqrt(3)*I/2, -1/2 + sqrt(3)*I/2, -1, -1/2 - sqrt(3)*I/2, 1/2 - sqrt(3)*I/2, 1]])"
      ]
     },
     "metadata": {},
     "output_type": "display_data"
    }
   ],
   "source": [
    "R = sp.Matrix([\n",
    "    [0,1,0,0,0,0],\n",
    "    [0,0,1,0,0,0],\n",
    "    [0,0,0,1,0,0],\n",
    "    [0,0,0,0,1,0],\n",
    "    [0,0,0,0,0,1],\n",
    "    [1,0,0,0,0,0]\n",
    "])\n",
    "eigensols = R.eigenvects()\n",
    "for _ in eigensols:\n",
    "    # print(_[0],_[1])\n",
    "    display(_[2][0].T)"
   ]
  },
  {
   "cell_type": "code",
   "execution_count": 25,
   "id": "6f4a4882-db16-443a-b31e-6cfea3748d64",
   "metadata": {},
   "outputs": [
    {
     "data": {
      "text/latex": [
       "$\\displaystyle \\left[\\begin{matrix}-1 & 1 & -1 & 1 & -1 & 1\\end{matrix}\\right]$"
      ],
      "text/plain": [
       "Matrix([[-1, 1, -1, 1, -1, 1]])"
      ]
     },
     "metadata": {},
     "output_type": "display_data"
    },
    {
     "data": {
      "text/latex": [
       "$\\displaystyle \\left[\\begin{matrix}-1 & 1 & 0 & -1 & 1 & 0\\end{matrix}\\right]$"
      ],
      "text/plain": [
       "Matrix([[-1, 1, 0, -1, 1, 0]])"
      ]
     },
     "metadata": {},
     "output_type": "display_data"
    },
    {
     "data": {
      "text/latex": [
       "$\\displaystyle \\left[\\begin{matrix}-1 & -1 & 0 & 1 & 1 & 0\\end{matrix}\\right]$"
      ],
      "text/plain": [
       "Matrix([[-1, -1, 0, 1, 1, 0]])"
      ]
     },
     "metadata": {},
     "output_type": "display_data"
    },
    {
     "data": {
      "text/latex": [
       "$\\displaystyle \\left[\\begin{matrix}1 & 1 & 1 & 1 & 1 & 1\\end{matrix}\\right]$"
      ],
      "text/plain": [
       "Matrix([[1, 1, 1, 1, 1, 1]])"
      ]
     },
     "metadata": {},
     "output_type": "display_data"
    }
   ],
   "source": [
    "RT = R.T\n",
    "V = R + RT\n",
    "H = sp.eye(6) + V\n",
    "eigensols = H.eigenvects()\n",
    "for _ in eigensols:\n",
    "    # print(_[0],_[1])\n",
    "    display(_[2][0].T)"
   ]
  },
  {
   "cell_type": "code",
   "execution_count": null,
   "id": "2e776007-c1e5-43a7-a47b-89a7c3a9f82e",
   "metadata": {},
   "outputs": [],
   "source": []
  },
  {
   "cell_type": "code",
   "execution_count": null,
   "id": "4cc2bee5-6504-4871-adea-961ed3668c83",
   "metadata": {},
   "outputs": [],
   "source": []
  },
  {
   "cell_type": "code",
   "execution_count": null,
   "id": "a5b98b0e-6f92-4ac0-b3ef-2e37d9b98ce0",
   "metadata": {},
   "outputs": [],
   "source": []
  }
 ],
 "metadata": {
  "kernelspec": {
   "display_name": "Python 3 (ipykernel)",
   "language": "python",
   "name": "python3"
  },
  "language_info": {
   "codemirror_mode": {
    "name": "ipython",
    "version": 3
   },
   "file_extension": ".py",
   "mimetype": "text/x-python",
   "name": "python",
   "nbconvert_exporter": "python",
   "pygments_lexer": "ipython3",
   "version": "3.10.12"
  }
 },
 "nbformat": 4,
 "nbformat_minor": 5
}
