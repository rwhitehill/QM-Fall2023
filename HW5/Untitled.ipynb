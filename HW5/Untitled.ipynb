{
 "cells": [
  {
   "cell_type": "code",
   "execution_count": 1,
   "id": "0bf700e3-0a94-443b-b09a-e329dbe7c31e",
   "metadata": {},
   "outputs": [],
   "source": [
    "import sympy as sp\n",
    "import numpy as np\n",
    "import matplotlib.pyplot as plt"
   ]
  },
  {
   "cell_type": "markdown",
   "id": "2932eb05-e953-4695-9a1a-aea7a45e287f",
   "metadata": {},
   "source": [
    "# Problem 3"
   ]
  },
  {
   "cell_type": "code",
   "execution_count": 4,
   "id": "8f397d8b-e8f8-48d9-9498-f71ab784e1c6",
   "metadata": {},
   "outputs": [],
   "source": [
    "A,B,C,D,F,G = sp.symbols('A B C D F G')\n",
    "k,kappa,a = sp.symbols(r'k \\kappa a',real=True,positive=True)"
   ]
  },
  {
   "cell_type": "code",
   "execution_count": 10,
   "id": "8c9eda64-ab6f-4267-8f00-3e3aa1eb2bee",
   "metadata": {},
   "outputs": [],
   "source": [
    "i = sp.I\n",
    "emik  = sp.exp(-i*k*a)\n",
    "eik   = sp.exp(i*k*a)\n",
    "ekap  = sp.exp(kappa*a)\n",
    "emkap = sp.exp(-kappa*a)\n",
    "\n",
    "eq1 = sp.Eq(A*emik + B*eik,C*ekap+D*emkap)\n",
    "eq2 = sp.Eq(i*k/kappa*(A*emik-B*eik),-C*ekap+D*emkap)\n",
    "eq3 = sp.Eq(F*eik + G*emik,C*emkap+D*ekap)\n",
    "eq4 = sp.Eq(i*k/kappa*(F*eik-G*emik),-C*emkap+D*ekap)"
   ]
  },
  {
   "cell_type": "code",
   "execution_count": 12,
   "id": "ffe28787-8e16-47c4-930a-a11817c43656",
   "metadata": {},
   "outputs": [
    {
     "data": {
      "text/latex": [
       "$\\displaystyle \\frac{i k \\left(F e^{i a k} - G e^{- i a k}\\right)}{\\kappa} = - C e^{- \\kappa a} + D e^{\\kappa a}$"
      ],
      "text/plain": [
       "Eq(I*k*(F*exp(I*a*k) - G*exp(-I*a*k))/\\kappa, -C*exp(-\\kappa*a) + D*exp(\\kappa*a))"
      ]
     },
     "execution_count": 12,
     "metadata": {},
     "output_type": "execute_result"
    }
   ],
   "source": [
    "eq3.subs(C,)"
   ]
  },
  {
   "cell_type": "markdown",
   "id": "5c639cb5-33b3-4009-aa54-cb32f312177d",
   "metadata": {},
   "source": [
    "# Problem 4"
   ]
  },
  {
   "cell_type": "code",
   "execution_count": 2,
   "id": "96e437a6-4b6d-428a-9d62-235b548e6527",
   "metadata": {},
   "outputs": [],
   "source": [
    "B,C = sp.symbols('B C')\n",
    "k,K = sp.symbols(r'k K',real=True,positive=True)\n",
    "i = sp.I\n",
    "w0,v0 = sp.symbols(r'w_0 v_0',real=True,positive=True)\n",
    "\n",
    "eq1 = sp.Eq(1+B,C)\n",
    "eq2 = sp.Eq(i*k*C - i*K*(1-B),-w0*C)"
   ]
  },
  {
   "cell_type": "code",
   "execution_count": 3,
   "id": "e02f7daa-7bfe-4538-9d81-1c0f6da9510a",
   "metadata": {},
   "outputs": [],
   "source": [
    "sol = sp.solve([eq1,eq2],[B,C])"
   ]
  },
  {
   "cell_type": "code",
   "execution_count": 7,
   "id": "3cafb95b-0eed-4238-85e7-fe1f0bbbc1ce",
   "metadata": {},
   "outputs": [
    {
     "data": {
      "text/latex": [
       "$\\displaystyle \\frac{4 K k}{K^{2} + 2 K k + k^{2} + w_{0}^{2}}$"
      ],
      "text/plain": [
       "4*K*k/(K**2 + 2*K*k + k**2 + w_0**2)"
      ]
     },
     "execution_count": 7,
     "metadata": {},
     "output_type": "execute_result"
    }
   ],
   "source": [
    "B_ = sol[B]\n",
    "R = B_*B_.conjugate()\n",
    "T = 1 - R\n",
    "T.cancel()"
   ]
  },
  {
   "cell_type": "code",
   "execution_count": 29,
   "id": "ff8afcd9-46f9-4444-9cb2-ab5e1ce11d6b",
   "metadata": {},
   "outputs": [],
   "source": [
    "A,B = sp.symbols('A B')\n",
    "k,kappa = sp.symbols(r'k \\kappa',real=True,positive=True)\n",
    "i = sp.I\n",
    "w0,v0 = sp.symbols(r'w_0 v_0',real=True,positive=True)\n",
    "\n",
    "eq1 = sp.Eq(A,B+1)\n",
    "eq2 = sp.Eq(i*k*(B-1) - kappa*A,-w0*A)"
   ]
  },
  {
   "cell_type": "code",
   "execution_count": 30,
   "id": "117b5efd-ea02-4259-967d-cb838c0e6419",
   "metadata": {},
   "outputs": [
    {
     "data": {
      "text/latex": [
       "$\\displaystyle - A \\kappa + i k \\left(B - 1\\right) = - A w_{0}$"
      ],
      "text/plain": [
       "Eq(-A*\\kappa + I*k*(B - 1), -A*w_0)"
      ]
     },
     "execution_count": 30,
     "metadata": {},
     "output_type": "execute_result"
    }
   ],
   "source": [
    "eq2"
   ]
  },
  {
   "cell_type": "code",
   "execution_count": 31,
   "id": "f628cacc-9cba-49d2-bba0-8fc1566a5b27",
   "metadata": {},
   "outputs": [
    {
     "data": {
      "text/plain": [
       "{A: 2*k/(I*\\kappa + k - I*w_0),\n",
       " B: (-I*\\kappa + k + I*w_0)/(I*\\kappa + k - I*w_0)}"
      ]
     },
     "execution_count": 31,
     "metadata": {},
     "output_type": "execute_result"
    }
   ],
   "source": [
    "sol = sp.solve([eq1,eq2],[A,B])\n",
    "sol"
   ]
  },
  {
   "cell_type": "code",
   "execution_count": 39,
   "id": "a360a4e1-9fc2-4c90-9cc8-756da80e6f14",
   "metadata": {},
   "outputs": [
    {
     "data": {
      "text/latex": [
       "$\\displaystyle \\frac{- i \\kappa + k + i w_{0}}{i \\kappa + k - i w_{0}}$"
      ],
      "text/plain": [
       "(-I*\\kappa + k + I*w_0)/(I*\\kappa + k - I*w_0)"
      ]
     },
     "metadata": {},
     "output_type": "display_data"
    },
    {
     "data": {
      "text/latex": [
       "$\\displaystyle - \\kappa + i k + w_{0}$"
      ],
      "text/plain": [
       "-\\kappa + I*k + w_0"
      ]
     },
     "execution_count": 39,
     "metadata": {},
     "output_type": "execute_result"
    }
   ],
   "source": [
    "B_ = sol[B]\n",
    "display(B_)\n",
    "R = B_*B_.conjugate()\n",
    "T = 1 - R\n",
    "T = T.cancel()\n",
    "num,den = sp.fraction(B_)\n",
    "(i*den).cancel()"
   ]
  },
  {
   "cell_type": "code",
   "execution_count": 51,
   "id": "852de326-85fa-42af-9ce0-ea9d3582afac",
   "metadata": {},
   "outputs": [],
   "source": [
    "delta = sp.atan((kappa - w0)/k)"
   ]
  },
  {
   "cell_type": "code",
   "execution_count": 52,
   "id": "fccf8c76-e9a1-4564-b715-bf8d352b5f9d",
   "metadata": {},
   "outputs": [
    {
     "data": {
      "text/latex": [
       "$\\displaystyle \\frac{- \\kappa \\left(\\kappa - w_{0}\\right) - k^{2}}{\\kappa \\left(k^{2} + \\left(\\kappa - w_{0}\\right)^{2}\\right)}$"
      ],
      "text/plain": [
       "(-\\kappa*(\\kappa - w_0) - k**2)/(\\kappa*(k**2 + (\\kappa - w_0)**2))"
      ]
     },
     "execution_count": 52,
     "metadata": {},
     "output_type": "execute_result"
    }
   ],
   "source": [
    "eps = sp.symbols('\\epsilon',real=True,positive=True)\n",
    "delta.subs(kappa,sp.sqrt(v0 - k**2)).diff(k).subs(v0,kappa**2+k**2).simplify()"
   ]
  },
  {
   "cell_type": "code",
   "execution_count": null,
   "id": "b70cecb0-a65c-431d-b225-25b4a8e6c5ad",
   "metadata": {},
   "outputs": [],
   "source": []
  }
 ],
 "metadata": {
  "kernelspec": {
   "display_name": "Python 3 (ipykernel)",
   "language": "python",
   "name": "python3"
  },
  "language_info": {
   "codemirror_mode": {
    "name": "ipython",
    "version": 3
   },
   "file_extension": ".py",
   "mimetype": "text/x-python",
   "name": "python",
   "nbconvert_exporter": "python",
   "pygments_lexer": "ipython3",
   "version": "3.10.12"
  }
 },
 "nbformat": 4,
 "nbformat_minor": 5
}
