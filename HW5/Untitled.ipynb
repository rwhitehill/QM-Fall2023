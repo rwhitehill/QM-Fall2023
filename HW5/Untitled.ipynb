{
 "cells": [
  {
   "cell_type": "code",
   "execution_count": 1,
   "id": "0bf700e3-0a94-443b-b09a-e329dbe7c31e",
   "metadata": {},
   "outputs": [],
   "source": [
    "import sympy as sp\n",
    "import numpy as np\n",
    "import matplotlib.pyplot as plt"
   ]
  },
  {
   "cell_type": "markdown",
   "id": "2932eb05-e953-4695-9a1a-aea7a45e287f",
   "metadata": {},
   "source": [
    "# Problem 3"
   ]
  },
  {
   "cell_type": "code",
   "execution_count": 4,
   "id": "8f397d8b-e8f8-48d9-9498-f71ab784e1c6",
   "metadata": {},
   "outputs": [],
   "source": [
    "A,B,C,D,F,G = sp.symbols('A B C D F G')\n",
    "k,kappa,a = sp.symbols(r'k \\kappa a',real=True,positive=True)"
   ]
  },
  {
   "cell_type": "code",
   "execution_count": 10,
   "id": "8c9eda64-ab6f-4267-8f00-3e3aa1eb2bee",
   "metadata": {},
   "outputs": [],
   "source": [
    "i = sp.I\n",
    "emik  = sp.exp(-i*k*a)\n",
    "eik   = sp.exp(i*k*a)\n",
    "ekap  = sp.exp(kappa*a)\n",
    "emkap = sp.exp(-kappa*a)\n",
    "\n",
    "eq1 = sp.Eq(A*emik + B*eik,C*ekap+D*emkap)\n",
    "eq2 = sp.Eq(i*k/kappa*(A*emik-B*eik),-C*ekap+D*emkap)\n",
    "eq3 = sp.Eq(F*eik + G*emik,C*emkap+D*ekap)\n",
    "eq4 = sp.Eq(i*k/kappa*(F*eik-G*emik),-C*emkap+D*ekap)"
   ]
  },
  {
   "cell_type": "code",
   "execution_count": 12,
   "id": "ffe28787-8e16-47c4-930a-a11817c43656",
   "metadata": {},
   "outputs": [
    {
     "data": {
      "text/latex": [
       "$\\displaystyle \\frac{i k \\left(F e^{i a k} - G e^{- i a k}\\right)}{\\kappa} = - C e^{- \\kappa a} + D e^{\\kappa a}$"
      ],
      "text/plain": [
       "Eq(I*k*(F*exp(I*a*k) - G*exp(-I*a*k))/\\kappa, -C*exp(-\\kappa*a) + D*exp(\\kappa*a))"
      ]
     },
     "execution_count": 12,
     "metadata": {},
     "output_type": "execute_result"
    }
   ],
   "source": [
    "eq3.subs(C,)"
   ]
  },
  {
   "cell_type": "code",
   "execution_count": null,
   "id": "f4a2053c-0366-4b9d-8790-7c3e09793a3b",
   "metadata": {},
   "outputs": [],
   "source": []
  }
 ],
 "metadata": {
  "kernelspec": {
   "display_name": "Python 3 (ipykernel)",
   "language": "python",
   "name": "python3"
  },
  "language_info": {
   "codemirror_mode": {
    "name": "ipython",
    "version": 3
   },
   "file_extension": ".py",
   "mimetype": "text/x-python",
   "name": "python",
   "nbconvert_exporter": "python",
   "pygments_lexer": "ipython3",
   "version": "3.9.17"
  }
 },
 "nbformat": 4,
 "nbformat_minor": 5
}
