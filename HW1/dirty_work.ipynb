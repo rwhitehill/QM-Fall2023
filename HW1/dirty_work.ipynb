{
 "cells": [
  {
   "cell_type": "code",
   "execution_count": 1,
   "id": "5c40c93d-eaf5-476d-b9cf-222e65a97681",
   "metadata": {},
   "outputs": [],
   "source": [
    "import sympy as sp\n",
    "import pint\n",
    "import numpy as np\n",
    "ureg = pint.UnitRegistry()\n",
    "Q_ = ureg.Quantity"
   ]
  },
  {
   "cell_type": "markdown",
   "id": "ad0434d1-9127-43d9-b03b-e2943823fae9",
   "metadata": {},
   "source": [
    "# Problem 1"
   ]
  },
  {
   "cell_type": "code",
   "execution_count": 2,
   "id": "8e9e7fce-4070-4232-a87f-1f0b4f1d0374",
   "metadata": {},
   "outputs": [],
   "source": [
    "gam  = sp.Symbol(r'\\gamma',real=True,positive=True)\n",
    "beta = sp.Symbol(r'\\beta',real=True,positive=True)\n",
    "lig  = sp.Symbol(r'\\lambda_{i}^{\\gamma}',real=True,positive=True)\n",
    "lfg  = sp.Symbol(r'\\lambda_{f}^{\\gamma}',real=True,positive=True)\n",
    "th   = sp.Symbol(r'\\theta',real=True,positive=True)\n",
    "\n",
    "le   = sp.Symbol(r'\\lambda_e',real=True,positive=True)\n",
    "\n",
    "pi = sp.Symbol('p_i',real=True,positive=True)\n",
    "pig = sp.Symbol(r'p_i^{\\gamma}',real=True,positive=True)\n",
    "m  = sp.Symbol('m',real=True,positive=True)\n",
    "h  = sp.Symbol('h',real=True,positive=True)\n",
    "c  = sp.Symbol('c',real=True,positive=True)"
   ]
  },
  {
   "cell_type": "code",
   "execution_count": 3,
   "id": "ae77e0d5-d3a2-4390-bee9-9b49824bcec4",
   "metadata": {},
   "outputs": [
    {
     "data": {
      "text/latex": [
       "$\\displaystyle \\frac{\\lambda_{i}^{\\gamma} \\left(p_{i} \\cos{\\left(\\theta \\right)} - p_{i} + p_i^{\\gamma} \\cos{\\left(\\theta \\right)} - p_i^{\\gamma}\\right)}{p_{i} - \\sqrt{c^{2} m^{2} + p_{i}^{2}}}$"
      ],
      "text/plain": [
       "\\lambda_{i}^{\\gamma}*(p_i*cos(\\theta) - p_i + p_i^{\\gamma}*cos(\\theta) - p_i^{\\gamma})/(p_i - sqrt(c**2*m**2 + p_i**2))"
      ]
     },
     "execution_count": 3,
     "metadata": {},
     "output_type": "execute_result"
    }
   ],
   "source": [
    "left = gam*(lfg*(1 + beta*(sp.cos(th) - beta)/(1 - beta*sp.cos(th))) - lig*(1+beta))\n",
    "right = le*(1 - (sp.cos(th) - beta)/(1 - beta*sp.cos(th)))\n",
    "\n",
    "sol = sp.solve(sp.Eq(left,right),lfg)[0]\n",
    "sol = sol.subs(beta,sp.sqrt(1-1/gam**2)).simplify()\n",
    "sol = sol.subs(gam,sp.sqrt(1+(pi/(m*c))**2)).simplify()\n",
    "\n",
    "sol = sol.subs(le,h/(m*c)).simplify() - lig\n",
    "sol.subs(h,lig*pig).simplify().factor(1-sp.cos(th))"
   ]
  },
  {
   "cell_type": "markdown",
   "id": "5cbea491-7524-4e34-9608-0e0fda8e7482",
   "metadata": {},
   "source": [
    "# Problem 2"
   ]
  },
  {
   "cell_type": "code",
   "execution_count": 4,
   "id": "7e91586b-2780-4c52-b7b3-8f7a6f6c8dd2",
   "metadata": {},
   "outputs": [],
   "source": [
    "M,m = sp.symbols('M m',real=True,positive=True)\n",
    "v = sp.Symbol('v',real=True,positive=True)\n",
    "vp = sp.Symbol('v\\'',real=True)\n",
    "\n",
    "left = M**2*(v-vp)**2/m\n",
    "right = M*(v**2-vp**2)"
   ]
  },
  {
   "cell_type": "code",
   "execution_count": 5,
   "id": "026f6f40-c502-40cd-91be-1fb85baecd3c",
   "metadata": {},
   "outputs": [
    {
     "data": {
      "text/latex": [
       "$\\displaystyle v$"
      ],
      "text/plain": [
       "v"
      ]
     },
     "metadata": {},
     "output_type": "display_data"
    },
    {
     "data": {
      "text/latex": [
       "$\\displaystyle \\frac{v \\left(M - m\\right)}{M + m}$"
      ],
      "text/plain": [
       "v*(M - m)/(M + m)"
      ]
     },
     "metadata": {},
     "output_type": "display_data"
    }
   ],
   "source": [
    "expr = left - right\n",
    "# display(expr.expand())\n",
    "sol = sp.solve(expr,vp)\n",
    "for _ in sol:\n",
    "    display(_)"
   ]
  },
  {
   "cell_type": "code",
   "execution_count": 6,
   "id": "106a0761-ccdd-48bb-833c-5c4dbdedd66f",
   "metadata": {},
   "outputs": [
    {
     "data": {
      "text/html": [
       "3.1319915466784405×10<sup>-14</sup> centimeter"
      ],
      "text/latex": [
       "$3.1319915466784405\\times 10^{-14}\\ \\mathrm{centimeter}$"
      ],
      "text/plain": [
       "3.1319915466784405e-14 <Unit('centimeter')>"
      ]
     },
     "execution_count": 6,
     "metadata": {},
     "output_type": "execute_result"
    }
   ],
   "source": [
    "v = Q_(2.1e9,'cm/s')\n",
    "e = Q_(1.602e-19,'C')\n",
    "eps0 = Q_(8.854e-12,'F/m')\n",
    "mp = Q_(1.67e-27,'kg')\n",
    "m = 4*mp\n",
    "\n",
    "q = e**2/(np.pi*eps0*m*v**2)\n",
    "q.to('cm')"
   ]
  },
  {
   "cell_type": "markdown",
   "id": "da5a2d9a-4703-4770-a93c-14e89c2c2d6e",
   "metadata": {},
   "source": [
    "# Problem 3"
   ]
  },
  {
   "cell_type": "code",
   "execution_count": 35,
   "id": "aafbd10f-26f5-466e-aca9-e141456f7fb6",
   "metadata": {},
   "outputs": [
    {
     "name": "stdout",
     "output_type": "stream",
     "text": [
      "3.9521793668571e-16 second\n",
      "1.0566493383742911e-10 second\n",
      "3.7402941764367446e-06 dimensionless\n"
     ]
    }
   ],
   "source": [
    "e = Q_(np.sqrt(2.3e-19),'g**0.5*cm**1.5/s')\n",
    "m = Q_(9.1e-31,'kg')\n",
    "c = Q_(3e8,'m/s')\n",
    "R = Q_(1e-8,'cm')\n",
    "\n",
    "T = 2*np.pi*np.sqrt(R**3*m/e**2)\n",
    "print(T.to('s'))\n",
    "\n",
    "tau = m**2*c**3*R**3/4/e**4\n",
    "print(tau.to('s'))\n",
    "\n",
    "print((T/tau).to(''))"
   ]
  },
  {
   "cell_type": "markdown",
   "id": "f276e26b-73a8-4c40-ba98-7017ac8d76c3",
   "metadata": {},
   "source": [
    "# Problem 4"
   ]
  },
  {
   "cell_type": "code",
   "execution_count": 37,
   "id": "1af00c3d-072a-4f9b-9d61-d421e4181b2a",
   "metadata": {},
   "outputs": [
    {
     "data": {
      "text/html": [
       "13.626304096846564 electron_volt"
      ],
      "text/latex": [
       "$13.626304096846564\\ \\mathrm{electron\\_volt}$"
      ],
      "text/plain": [
       "13.626304096846564 <Unit('electron_volt')>"
      ]
     },
     "execution_count": 37,
     "metadata": {},
     "output_type": "execute_result"
    }
   ],
   "source": [
    "e = Q_(np.sqrt(2.3e-19),'g**0.5*cm**1.5/s')\n",
    "m = Q_(9.1e-31,'kg')\n",
    "hbar = Q_(1.05e-34,'J*s')\n",
    "\n",
    "q = e**4*m/2/hbar**2\n",
    "q.to('eV')"
   ]
  },
  {
   "cell_type": "markdown",
   "id": "7effa5c8-8f9c-4869-b567-ec227b10ad4e",
   "metadata": {},
   "source": [
    "# Problem 4"
   ]
  },
  {
   "cell_type": "code",
   "execution_count": 46,
   "id": "ba5e714f-b8f9-4095-8087-0112ec720f10",
   "metadata": {},
   "outputs": [
    {
     "name": "stdout",
     "output_type": "stream",
     "text": [
      "1.9000254549920345e-08 centimeter\n",
      "1.1732814371257483 erg\n",
      "0.7323046736716723 electron_volt\n",
      "1.249500998003992 dimensionless\n",
      "2.405388326237574 erg\n",
      "1.5013253065813807 electron_volt\n"
     ]
    }
   ],
   "source": [
    "h = Q_(6.26e-34,'J*s')\n",
    "M = Q_(1.67e-24,'g')\n",
    "E = Q_(1.3e-13,'erg')\n",
    "R = Q_(1e-13,'cm')\n",
    "c = Q_(3e10,'cm/s')\n",
    "\n",
    "q = 2*h/np.sqrt(2*M*E)\n",
    "print(q.to('cm'))\n",
    "\n",
    "q = h**2/(2*M*R**2)\n",
    "print(q.to('erg')*1e3)\n",
    "print(q.to('eV')/1e9)\n",
    "print(np.sqrt(2*q/M).to('cm/s')/Q_(3e10,'cm/s'))\n",
    "\n",
    "q = np.sqrt(1 + (h/M/c)**2/R**2)*M*c**2\n",
    "print(q.to('erg')*1e3)\n",
    "print(q.to('eV')/1e9)"
   ]
  },
  {
   "cell_type": "markdown",
   "id": "f287bd30-f3e9-44b2-a951-f004b6f56251",
   "metadata": {},
   "source": [
    "# Amelia"
   ]
  },
  {
   "cell_type": "code",
   "execution_count": 17,
   "id": "b99be39b-bd50-4e46-be80-4fd690ca3a5f",
   "metadata": {},
   "outputs": [],
   "source": [
    "import matplotlib.pyplot as plt"
   ]
  },
  {
   "cell_type": "code",
   "execution_count": 30,
   "id": "d3f07e9e-8140-4df7-b277-74c6f6a954c1",
   "metadata": {},
   "outputs": [
    {
     "data": {
      "text/latex": [
       "$\\displaystyle a = \\frac{10000 - 133 \\bar{x}}{100 \\bar{x}^{2} - 10000 \\bar{x}}$"
      ],
      "text/plain": [
       "Eq(a, (10000 - 133*\\bar{x})/(100*\\bar{x}**2 - 10000*\\bar{x}))"
      ]
     },
     "metadata": {},
     "output_type": "display_data"
    },
    {
     "data": {
      "text/latex": [
       "$\\displaystyle b = \\frac{133 \\bar{x}^{2} - 1000000}{100 \\bar{x}^{2} - 10000 \\bar{x}}$"
      ],
      "text/plain": [
       "Eq(b, (133*\\bar{x}**2 - 1000000)/(100*\\bar{x}**2 - 10000*\\bar{x}))"
      ]
     },
     "metadata": {},
     "output_type": "display_data"
    }
   ],
   "source": [
    "a,b,xbar = sp.symbols(r'a b \\bar{x}')\n",
    "\n",
    "eq1 = 100 - (a*xbar**2 + b*xbar)\n",
    "eq2 = 133 - (a*(100)**2 + b*100)\n",
    "sol = sp.solve([eq1,eq2],a,b)\n",
    "\n",
    "display(sp.Eq(a,sol[a]))\n",
    "display(sp.Eq(b,sol[b]))\n",
    "\n",
    "x = sp.symbols('x')\n",
    "f = sol[a]*x**2 + sol[b]*x\n",
    "f_num = sp.lambdify((x,xbar),f,'numpy')"
   ]
  },
  {
   "cell_type": "code",
   "execution_count": 33,
   "id": "fb338031-5512-49cb-965f-057cf4d1070d",
   "metadata": {},
   "outputs": [
    {
     "data": {
      "text/latex": [
       "$\\displaystyle 0.0050227420402859$"
      ],
      "text/plain": [
       "0.00502274204028590"
      ]
     },
     "metadata": {},
     "output_type": "display_data"
    },
    {
     "data": {
      "text/latex": [
       "$\\displaystyle 0.82772579597141$"
      ],
      "text/plain": [
       "0.827725795971410"
      ]
     },
     "metadata": {},
     "output_type": "display_data"
    }
   ],
   "source": [
    "display(sol[a].subs(xbar,81).evalf())\n",
    "display(sol[b].subs(xbar,81).evalf())"
   ]
  },
  {
   "cell_type": "code",
   "execution_count": 25,
   "id": "f847c66e-637f-4087-a200-bf8d8894f0e9",
   "metadata": {},
   "outputs": [
    {
     "data": {
      "image/png": "[encoded data removed]",
      "text/plain": [
       "<Figure size 720x504 with 1 Axes>"
      ]
     },
     "metadata": {
      "needs_background": "light"
     },
     "output_type": "display_data"
    }
   ],
   "source": [
    "x = np.linspace(0,100,100)\n",
    "fig,ax = plt.subplots(figsize=(10,7))\n",
    "ax.plot(x,f_num(x,81))\n",
    "plt.show()"
   ]
  },
  {
   "cell_type": "code",
   "execution_count": null,
   "id": "2cef0a0e-cf32-4893-bae9-0f3e71d31516",
   "metadata": {},
   "outputs": [],
   "source": []
  }
 ],
 "metadata": {
  "kernelspec": {
   "display_name": "Python 3 (ipykernel)",
   "language": "python",
   "name": "python3"
  },
  "language_info": {
   "codemirror_mode": {
    "name": "ipython",
    "version": 3
   },
   "file_extension": ".py",
   "mimetype": "text/x-python",
   "name": "python",
   "nbconvert_exporter": "python",
   "pygments_lexer": "ipython3",
   "version": "3.9.17"
  }
 },
 "nbformat": 4,
 "nbformat_minor": 5
}
